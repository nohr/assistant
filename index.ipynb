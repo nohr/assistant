{
 "cells": [
  {
   "cell_type": "markdown",
   "id": "5d15e242",
   "metadata": {},
   "source": [
    "import OpenAI Library and initialize the client\n"
   ]
  },
  {
   "cell_type": "code",
   "execution_count": 7,
   "id": "d2522ab0-8a61-4eb8-a4bf-cebbd3c4bce2",
   "metadata": {},
   "outputs": [],
   "source": [
    "import os\n",
    "from openai import OpenAI\n",
    "\n",
    "client = OpenAI(api_key=os.environ[\"OPENAI_API_KEY\"])"
   ]
  },
  {
   "cell_type": "markdown",
   "id": "b1b5b943",
   "metadata": {},
   "source": [
    "create an assistant\n"
   ]
  },
  {
   "cell_type": "code",
   "execution_count": 8,
   "id": "4798930f-eba5-4176-b2d2-367d65078aa7",
   "metadata": {},
   "outputs": [],
   "source": [
    "assistant = client.beta.assistants.create(\n",
    "    name=\"Test Assistant\",\n",
    "    instructions=\"This is a test assistant\",\n",
    "    tools=[{\"type\": \"code_interpreter\"}],\n",
    "    model=\"gpt-4-1106-preview\",\n",
    ")"
   ]
  },
  {
   "cell_type": "markdown",
   "id": "591be48c",
   "metadata": {},
   "source": [
    "make a thread\n"
   ]
  },
  {
   "cell_type": "code",
   "execution_count": null,
   "id": "6db5f90c",
   "metadata": {},
   "outputs": [],
   "source": [
    "thread = client.beta.threads.create()\n",
    "print(thread)"
   ]
  },
  {
   "cell_type": "markdown",
   "id": "a8523d8a",
   "metadata": {},
   "source": [
    "add message to thread"
   ]
  },
  {
   "cell_type": "code",
   "execution_count": null,
   "id": "14f69864",
   "metadata": {},
   "outputs": [],
   "source": [
    "message = client.beta.threads.messages.create(\n",
    "    thread_id=thread.id,\n",
    "    role=\"user\",\n",
    "    content=\"solve this: 2 + 2^12\"\n",
    ")\n",
    "\n",
    "print(message)"
   ]
  },
  {
   "cell_type": "markdown",
   "id": "1b2a2e04",
   "metadata": {},
   "source": [
    "run the assistant"
   ]
  },
  {
   "cell_type": "code",
   "execution_count": 11,
   "id": "af14c66a",
   "metadata": {},
   "outputs": [],
   "source": [
    "run = client.beta.threads.runs.create(\n",
    "    thread_id=thread.id,\n",
    "    assistant_id=assistant.id,\n",
    ")"
   ]
  },
  {
   "cell_type": "markdown",
   "id": "e2fdeee2",
   "metadata": {},
   "source": [
    "display assistant's response"
   ]
  },
  {
   "cell_type": "code",
   "execution_count": 13,
   "id": "71786bd9",
   "metadata": {},
   "outputs": [],
   "source": [
    "run = client.beta.threads.runs.retrieve(\n",
    "    thread_id=thread.id,\n",
    "    run_id=run.id,\n",
    ")"
   ]
  },
  {
   "cell_type": "code",
   "execution_count": 14,
   "id": "05c5158b",
   "metadata": {},
   "outputs": [],
   "source": [
    "messages = client.beta.threads.messages.list(\n",
    "    thread_id=thread.id,\n",
    ")"
   ]
  },
  {
   "cell_type": "code",
   "execution_count": 15,
   "id": "20a9fb7d",
   "metadata": {},
   "outputs": [
    {
     "name": "stdout",
     "output_type": "stream",
     "text": [
      "user: solve this: 2 + 2^12\n",
      "assistant: The solution to the expression \\(2 + 2^{12}\\) is 4098.\n"
     ]
    }
   ],
   "source": [
    "for message in reversed(messages.data):\n",
    "    print(message.role + \": \" + message.content[0].text.value) # type: ignore"
   ]
  }
 ],
 "metadata": {
  "kernelspec": {
   "display_name": "Python 3 (ipykernel)",
   "language": "python",
   "name": "python3"
  },
  "language_info": {
   "codemirror_mode": {
    "name": "ipython",
    "version": 3
   },
   "file_extension": ".py",
   "mimetype": "text/x-python",
   "name": "python",
   "nbconvert_exporter": "python",
   "pygments_lexer": "ipython3",
   "version": "3.10.12"
  }
 },
 "nbformat": 4,
 "nbformat_minor": 5
}
